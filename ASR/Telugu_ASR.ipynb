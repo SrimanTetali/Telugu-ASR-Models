{
  "cells": [
    {
      "cell_type": "code",
      "execution_count": null,
      "metadata": {
        "colab": {
          "base_uri": "https://localhost:8080/"
        },
        "id": "00K8kjuIrOuO",
        "outputId": "ef237dd1-576b-4d67-9ef9-628389a55f3a"
      },
      "outputs": [
        {
          "output_type": "stream",
          "name": "stdout",
          "text": [
            "Requirement already satisfied: torch in /usr/local/lib/python3.10/dist-packages (2.3.0+cu121)\n",
            "Requirement already satisfied: transformers in /usr/local/lib/python3.10/dist-packages (4.41.2)\n",
            "Requirement already satisfied: filelock in /usr/local/lib/python3.10/dist-packages (from torch) (3.15.4)\n",
            "Requirement already satisfied: typing-extensions>=4.8.0 in /usr/local/lib/python3.10/dist-packages (from torch) (4.12.2)\n",
            "Requirement already satisfied: sympy in /usr/local/lib/python3.10/dist-packages (from torch) (1.13.0)\n",
            "Requirement already satisfied: networkx in /usr/local/lib/python3.10/dist-packages (from torch) (3.3)\n",
            "Requirement already satisfied: jinja2 in /usr/local/lib/python3.10/dist-packages (from torch) (3.1.4)\n",
            "Requirement already satisfied: fsspec in /usr/local/lib/python3.10/dist-packages (from torch) (2023.6.0)\n",
            "Requirement already satisfied: nvidia-cuda-nvrtc-cu12==12.1.105 in /usr/local/lib/python3.10/dist-packages (from torch) (12.1.105)\n",
            "Requirement already satisfied: nvidia-cuda-runtime-cu12==12.1.105 in /usr/local/lib/python3.10/dist-packages (from torch) (12.1.105)\n",
            "Requirement already satisfied: nvidia-cuda-cupti-cu12==12.1.105 in /usr/local/lib/python3.10/dist-packages (from torch) (12.1.105)\n",
            "Requirement already satisfied: nvidia-cudnn-cu12==8.9.2.26 in /usr/local/lib/python3.10/dist-packages (from torch) (8.9.2.26)\n",
            "Requirement already satisfied: nvidia-cublas-cu12==12.1.3.1 in /usr/local/lib/python3.10/dist-packages (from torch) (12.1.3.1)\n",
            "Requirement already satisfied: nvidia-cufft-cu12==11.0.2.54 in /usr/local/lib/python3.10/dist-packages (from torch) (11.0.2.54)\n",
            "Requirement already satisfied: nvidia-curand-cu12==10.3.2.106 in /usr/local/lib/python3.10/dist-packages (from torch) (10.3.2.106)\n",
            "Requirement already satisfied: nvidia-cusolver-cu12==11.4.5.107 in /usr/local/lib/python3.10/dist-packages (from torch) (11.4.5.107)\n",
            "Requirement already satisfied: nvidia-cusparse-cu12==12.1.0.106 in /usr/local/lib/python3.10/dist-packages (from torch) (12.1.0.106)\n",
            "Requirement already satisfied: nvidia-nccl-cu12==2.20.5 in /usr/local/lib/python3.10/dist-packages (from torch) (2.20.5)\n",
            "Requirement already satisfied: nvidia-nvtx-cu12==12.1.105 in /usr/local/lib/python3.10/dist-packages (from torch) (12.1.105)\n",
            "Requirement already satisfied: triton==2.3.0 in /usr/local/lib/python3.10/dist-packages (from torch) (2.3.0)\n",
            "Requirement already satisfied: nvidia-nvjitlink-cu12 in /usr/local/lib/python3.10/dist-packages (from nvidia-cusolver-cu12==11.4.5.107->torch) (12.5.82)\n",
            "Requirement already satisfied: huggingface-hub<1.0,>=0.23.0 in /usr/local/lib/python3.10/dist-packages (from transformers) (0.23.4)\n",
            "Requirement already satisfied: numpy>=1.17 in /usr/local/lib/python3.10/dist-packages (from transformers) (1.25.2)\n",
            "Requirement already satisfied: packaging>=20.0 in /usr/local/lib/python3.10/dist-packages (from transformers) (24.1)\n",
            "Requirement already satisfied: pyyaml>=5.1 in /usr/local/lib/python3.10/dist-packages (from transformers) (6.0.1)\n",
            "Requirement already satisfied: regex!=2019.12.17 in /usr/local/lib/python3.10/dist-packages (from transformers) (2024.5.15)\n",
            "Requirement already satisfied: requests in /usr/local/lib/python3.10/dist-packages (from transformers) (2.31.0)\n",
            "Requirement already satisfied: tokenizers<0.20,>=0.19 in /usr/local/lib/python3.10/dist-packages (from transformers) (0.19.1)\n",
            "Requirement already satisfied: safetensors>=0.4.1 in /usr/local/lib/python3.10/dist-packages (from transformers) (0.4.3)\n",
            "Requirement already satisfied: tqdm>=4.27 in /usr/local/lib/python3.10/dist-packages (from transformers) (4.66.4)\n",
            "Requirement already satisfied: MarkupSafe>=2.0 in /usr/local/lib/python3.10/dist-packages (from jinja2->torch) (2.1.5)\n",
            "Requirement already satisfied: charset-normalizer<4,>=2 in /usr/local/lib/python3.10/dist-packages (from requests->transformers) (3.3.2)\n",
            "Requirement already satisfied: idna<4,>=2.5 in /usr/local/lib/python3.10/dist-packages (from requests->transformers) (3.7)\n",
            "Requirement already satisfied: urllib3<3,>=1.21.1 in /usr/local/lib/python3.10/dist-packages (from requests->transformers) (2.0.7)\n",
            "Requirement already satisfied: certifi>=2017.4.17 in /usr/local/lib/python3.10/dist-packages (from requests->transformers) (2024.7.4)\n",
            "Requirement already satisfied: mpmath<1.4,>=1.1.0 in /usr/local/lib/python3.10/dist-packages (from sympy->torch) (1.3.0)\n"
          ]
        }
      ],
      "source": [
        "!pip install torch transformers"
      ]
    },
    {
      "cell_type": "code",
      "execution_count": null,
      "metadata": {
        "id": "TDs-AawBrOrb"
      },
      "outputs": [],
      "source": [
        "import torch\n",
        "from transformers import pipeline\n",
        "\n",
        "# Path to the uploaded audio file\n",
        "audio = \"/content/Master Bharath..... Funny ETV.mp3\"\n",
        "# Set the device to \"cuda:0\" if available, otherwise \"cpu\n",
        "device = \"cuda:0\" if torch.cuda.is_available() else \"cpu\"\n"
      ]
    },
    {
      "cell_type": "markdown",
      "metadata": {
        "id": "FmkhEksHrfIT"
      },
      "source": [
        "**Telugu ASR Whisper Models**"
      ]
    },
    {
      "cell_type": "code",
      "execution_count": null,
      "metadata": {
        "id": "SjuNt0JIrOoh"
      },
      "outputs": [],
      "source": [
        "# model_name = \"vasista22/whisper-telugu-tiny\"\n",
        "model_name = \"vasista22/whisper-telugu-small\"\n",
        "# model_name = \"vasista22/whisper-telugu-base\"\n",
        "# model_name = \"vasista22/whisper-telugu-medium\"\n",
        "# model_name = \"vasista22/whisper-telugu-large-v2\"\n",
        "# model_name = \"kowshik/whisper-telugu-medium\"\n",
        "# model_name = \"kowshik/whisper-telugu-large-v2\"\n",
        "# model_name = \"Mukund017/whisper-small-telugu\"\n",
        "# model_name = \"eswardivi/whisper-tiny-fluers_V2_telugu_Augmentation_full_datset_V2_e5\"\n",
        "# model_name = \"Anujgr8/Whisper-Anuj-small-Telugu-final\"\n",
        "\n",
        "# Initialize the ASR pipeline\n",
        "transcribe = pipeline(\n",
        "    task = \"automatic-speech-recognition\",\n",
        "    model = model_name,\n",
        "    chunk_length_s = 30,\n",
        "    device = device\n",
        ")"
      ]
    },
    {
      "cell_type": "code",
      "execution_count": null,
      "metadata": {
        "colab": {
          "background_save": true,
          "base_uri": "https://localhost:8080/"
        },
        "id": "HsjWDF69sE2F",
        "outputId": "3f96c31a-e310-4252-d6bc-50eccf146bb2"
      },
      "outputs": [
        {
          "name": "stderr",
          "output_type": "stream",
          "text": [
            "/usr/local/lib/python3.10/dist-packages/transformers/generation/utils.py:1283: UserWarning: You have modified the pretrained model configuration to control generation. This is a deprecated strategy to control generation and will be removed soon, in a future version. Please use and modify the model generation configuration (see https://huggingface.co/docs/transformers/generation_strategies#default-text-generation-configuration )\n",
            "  warnings.warn(\n"
          ]
        },
        {
          "name": "stdout",
          "output_type": "stream",
          "text": [
            "Transcription:  అత్తగారి ఆంక్షలు కదా తెలుగు నేర్చుకోవాలి యావత ఏ ఊరు భాష మాట్లాడమంటారు జలహైదరాబాద్ భాష మాట్లాడమంటారా ఎందుకు అటు చూస్తున్నారు పరేషాన్ నన్ను చూస్తే అవ్వమా అలా అది తెలంగాణ యావత కొంచెం చిక్కినట్టుకు ఉన్నావా నాకోసం గాని ఆ ముగువులు పట్టుకున్నాఅది నెల్లూరు రాయలసీమ అట్లా చూస్తే కాదు పిల్లలు తీసుకురా పెళ్లి చేసుకుపోతాను అది గుంటూరు బెజవాడ గుడ్ మీరు ఎన్ని శారదలు పెట్టిన మా గుండెల్లో భ్రమంగా ఉంటే మీరు ఎంతసేయగలరంటయ్య యాతండి గోదావరి జిల్లా వాళ్ళ అమ్మకు వాడలే యాతలు నెలలు పడిపోయినావు ప�\n"
          ]
        }
      ],
      "source": [
        "# Set the forced decoder IDs for Telugu transcription\n",
        "transcribe.model.config.forced_decoder_ids = transcribe.tokenizer.get_decoder_prompt_ids(language=\"te\", task=\"transcribe\")\n",
        "# Perform transcription and print the result\n",
        "print('Transcription: ', transcribe(audio)[\"text\"])"
      ]
    },
    {
      "cell_type": "code",
      "execution_count": null,
      "metadata": {
        "id": "0jK_tEZIuNKL"
      },
      "outputs": [],
      "source": []
    },
    {
      "cell_type": "code",
      "source": [],
      "metadata": {
        "id": "gxrIRWg87Epj"
      },
      "execution_count": null,
      "outputs": []
    },
    {
      "cell_type": "code",
      "source": [],
      "metadata": {
        "id": "t3NPAtFL7Efn"
      },
      "execution_count": null,
      "outputs": []
    },
    {
      "cell_type": "code",
      "source": [],
      "metadata": {
        "id": "EE39DHUZ7EXx"
      },
      "execution_count": null,
      "outputs": []
    },
    {
      "cell_type": "code",
      "execution_count": null,
      "metadata": {
        "colab": {
          "base_uri": "https://localhost:8080/"
        },
        "id": "KevF6ubWrC-y",
        "outputId": "08c6e40e-bd1f-448d-bc1f-6ee5e384666e"
      },
      "outputs": [
        {
          "output_type": "stream",
          "name": "stdout",
          "text": [
            "Requirement already satisfied: kenlm in /usr/local/lib/python3.10/dist-packages (0.2.0)\n",
            "Requirement already satisfied: pyctcdecode in /usr/local/lib/python3.10/dist-packages (0.5.0)\n",
            "Requirement already satisfied: numpy<2.0.0,>=1.15.0 in /usr/local/lib/python3.10/dist-packages (from pyctcdecode) (1.25.2)\n",
            "Requirement already satisfied: pygtrie<3.0,>=2.1 in /usr/local/lib/python3.10/dist-packages (from pyctcdecode) (2.5.0)\n",
            "Requirement already satisfied: hypothesis<7,>=6.14 in /usr/local/lib/python3.10/dist-packages (from pyctcdecode) (6.108.2)\n",
            "Requirement already satisfied: attrs>=22.2.0 in /usr/local/lib/python3.10/dist-packages (from hypothesis<7,>=6.14->pyctcdecode) (23.2.0)\n",
            "Requirement already satisfied: sortedcontainers<3.0.0,>=2.1.0 in /usr/local/lib/python3.10/dist-packages (from hypothesis<7,>=6.14->pyctcdecode) (2.4.0)\n",
            "Requirement already satisfied: exceptiongroup>=1.0.0 in /usr/local/lib/python3.10/dist-packages (from hypothesis<7,>=6.14->pyctcdecode) (1.2.1)\n"
          ]
        }
      ],
      "source": [
        "!pip install kenlm\n",
        "!pip install pyctcdecode"
      ]
    },
    {
      "cell_type": "markdown",
      "metadata": {
        "id": "RTG0Bjt5rQBC"
      },
      "source": [
        "**Telugu ASR wav2vec2 Models**"
      ]
    },
    {
      "cell_type": "code",
      "execution_count": null,
      "metadata": {
        "colab": {
          "base_uri": "https://localhost:8080/",
          "height": 266,
          "referenced_widgets": [
            "28985908d4404baf80d35a727cd444dc",
            "dfc2b0f0cbcb4ed6aa9c51f823ef2e7e",
            "f6e7782afaf44df285f4daed2ab8cdbb",
            "4fb9990162b74221a34ba80dc37caf5f",
            "57cb84ca686a41d78ddcfff7444742b0",
            "bf624d3bf3c5424fb1ce3e4518ea45ec",
            "a7401e4dd5fc4b1b9c8c371eb0f573b3",
            "6a6aa1e0759443bb9d58d62c2f8eae1f",
            "e2e570130cff409a88f93b0082a2efe9",
            "1ce5b956617e482c885a3f175c6826da",
            "e0d4a1e8281e4c549318f49b9d235ebc"
          ]
        },
        "id": "WXg3iKNBrC4Q",
        "outputId": "a06df0a0-8558-4494-b18c-56488b995d75"
      },
      "outputs": [
        {
          "output_type": "stream",
          "name": "stderr",
          "text": [
            "/usr/local/lib/python3.10/dist-packages/huggingface_hub/utils/_token.py:89: UserWarning: \n",
            "The secret `HF_TOKEN` does not exist in your Colab secrets.\n",
            "To authenticate with the Hugging Face Hub, create a token in your settings tab (https://huggingface.co/settings/tokens), set it as secret in your Google Colab and restart your session.\n",
            "You will be able to reuse this secret in all of your notebooks.\n",
            "Please note that authentication is recommended but still optional to access public models or datasets.\n",
            "  warnings.warn(\n",
            "Some weights of the model checkpoint at krishnateja/wav2vec2-telugu_150 were not used when initializing Wav2Vec2ForCTC: ['wav2vec2.encoder.pos_conv_embed.conv.weight_g', 'wav2vec2.encoder.pos_conv_embed.conv.weight_v']\n",
            "- This IS expected if you are initializing Wav2Vec2ForCTC from the checkpoint of a model trained on another task or with another architecture (e.g. initializing a BertForSequenceClassification model from a BertForPreTraining model).\n",
            "- This IS NOT expected if you are initializing Wav2Vec2ForCTC from the checkpoint of a model that you expect to be exactly identical (initializing a BertForSequenceClassification model from a BertForSequenceClassification model).\n",
            "Some weights of Wav2Vec2ForCTC were not initialized from the model checkpoint at krishnateja/wav2vec2-telugu_150 and are newly initialized: ['wav2vec2.encoder.pos_conv_embed.conv.parametrizations.weight.original0', 'wav2vec2.encoder.pos_conv_embed.conv.parametrizations.weight.original1']\n",
            "You should probably TRAIN this model on a down-stream task to be able to use it for predictions and inference.\n"
          ]
        },
        {
          "output_type": "display_data",
          "data": {
            "text/plain": [
              "Fetching 4 files:   0%|          | 0/4 [00:00<?, ?it/s]"
            ],
            "application/vnd.jupyter.widget-view+json": {
              "version_major": 2,
              "version_minor": 0,
              "model_id": "28985908d4404baf80d35a727cd444dc"
            }
          },
          "metadata": {}
        }
      ],
      "source": [
        "# model_name = \"henilp105/wav2vec2-large-xls-r-300m-telugu-asr\"\n",
        "# model_name = \"anuragshas/wav2vec2-large-xlsr-53-telugu\"\n",
        "# model_name = \"Anujgr8/wav2vec2-base-Telugu-large\"\n",
        "# model_name = \"Fredium/wav2vec2-large-xlsr-53-demo-colab-telugu_new\n",
        "# model_name = \"Hemantrao/wav2vec2-large-xls-r-300m-hindi_telugu-colab\"\n",
        "# model_name = \"Harveenchadha/vakyansh-wav2vec2-telugu-tem-100\"\n",
        "# model_name = \"addy88/wav2vec2-telugu-stt\"\n",
        "# model_name = \"krishnateja/wav2vec2-telugu\"\n",
        "model_name = \"krishnateja/wav2vec2-telugu_150\"\n",
        "# model_name = \"henilp105/wav2vec2-base-ASR-telugu\"\n",
        "\n",
        "# Initialize the ASR pipeline\n",
        "transcribe = pipeline(\n",
        "    task=\"automatic-speech-recognition\",\n",
        "    model=model_name,\n",
        "    chunk_length_s=30,\n",
        "    device=device\n",
        ")"
      ]
    },
    {
      "cell_type": "code",
      "execution_count": null,
      "metadata": {
        "colab": {
          "base_uri": "https://localhost:8080/"
        },
        "id": "RgiMtz0xrMaQ",
        "outputId": "0a71610a-6d07-432f-b330-4d29ec9d8d06"
      },
      "outputs": [
        {
          "output_type": "stream",
          "name": "stdout",
          "text": [
            "Transcription:  దురద వాడు రాకె్లో రేచ్మలవవస్తేదొ్ిని బెయాదవాడ రైట్లిబెక్టి వద్దులో రిచిబలదడ్ర యభకఅగేమురినోక్రెండి వల్ల పేకిలకేకెకంకి అ్కలుమబుమీరురకడి్ను వేరసచెపుననుఅనకళ కాక బేలకుడుమమఆకుడుమలో త్రి చాాలా పేడవాడుతళ్లికూడ పేగడేవోలపీయ్లలో కోటవలి వంటవాడుఆకరికి కాలకుడపేడవాడేపపవల్తీనగనికి చికన్కఏనుడదకఆక్లిక ఏతికాడల్తుర్డికా పవర ఇరవైబది పొరలు ఏసికాలకోలు పెదల ఇద్రాడృుకూలైగద పత అపైకత్ీతిగా కత్రిన్కూల్కిల్లలు యాడు కులు పి పొందిని ాకంటూ నం దనకపేతరినే కడుపు కాలి కడిప్లనేప్పచినినా న్నా మరిగాలగుడుతలనోపీనోపీ యటంలుతగాలీల్\n"
          ]
        }
      ],
      "source": [
        "# Perform transcription\n",
        "transcription = transcribe(audio)[\"text\"]\n",
        "\n",
        "# Remove unwanted tokens\n",
        "cleaned_transcription = transcription.replace(\"<s>\", \"\").strip()\n",
        "\n",
        "# Print the cleaned transcription\n",
        "print('Transcription: ', cleaned_transcription)"
      ]
    },
    {
      "cell_type": "code",
      "execution_count": null,
      "metadata": {
        "id": "I_Uuklh3sjmJ"
      },
      "outputs": [],
      "source": []
    },
    {
      "cell_type": "code",
      "source": [],
      "metadata": {
        "id": "ko0jOfZHFa3l"
      },
      "execution_count": null,
      "outputs": []
    },
    {
      "cell_type": "code",
      "source": [],
      "metadata": {
        "id": "3w1ApPdAFatx"
      },
      "execution_count": null,
      "outputs": []
    },
    {
      "cell_type": "markdown",
      "source": [
        "**Telugu ASR Bert Models**"
      ],
      "metadata": {
        "id": "Y6RDfAD2FfDt"
      }
    },
    {
      "cell_type": "code",
      "source": [
        "# Choose the model to use\n",
        "# model_name = \"Anujgr8/w2v-bert-Telugu-large\"\n",
        "model_name = \"cdactvm/telugu_w2v-bert_model\""
      ],
      "metadata": {
        "id": "Q6rLb159FaiQ"
      },
      "execution_count": null,
      "outputs": []
    },
    {
      "cell_type": "code",
      "source": [
        "# Initialize the ASR pipeline\n",
        "try:\n",
        "    transcribe = pipeline(\n",
        "        task=\"automatic-speech-recognition\",\n",
        "        model=model_name,\n",
        "        chunk_length_s=30,\n",
        "        device=device,\n",
        "    )\n",
        "except Exception as e:\n",
        "    print(f\"Error initializing pipeline: {e}\")\n",
        "    exit()"
      ],
      "metadata": {
        "id": "emKSpcGTGGTl"
      },
      "execution_count": null,
      "outputs": []
    },
    {
      "cell_type": "code",
      "source": [
        "# Set the forced decoder IDs if supported by the model\n",
        "if hasattr(transcribe.model.config, 'forced_decoder_ids') and hasattr(transcribe.tokenizer, 'get_decoder_prompt_ids'):\n",
        "    transcribe.model.config.forced_decoder_ids = transcribe.tokenizer.get_decoder_prompt_ids(language=\"te\", task=\"transcribe\")\n",
        "\n",
        "# Perform transcription and print the result\n",
        "try:\n",
        "    result = transcribe(audio_path)\n",
        "    print('Transcription:', result[\"text\"])\n",
        "except Exception as e:\n",
        "    print(f\"An error occurred during transcription: {e}\")"
      ],
      "metadata": {
        "id": "RzjTP9CGGRa4"
      },
      "execution_count": null,
      "outputs": []
    }
  ],
  "metadata": {
    "colab": {
      "provenance": []
    },
    "kernelspec": {
      "display_name": "Python 3",
      "name": "python3"
    },
    "language_info": {
      "name": "python"
    },
    "widgets": {
      "application/vnd.jupyter.widget-state+json": {
        "28985908d4404baf80d35a727cd444dc": {
          "model_module": "@jupyter-widgets/controls",
          "model_name": "HBoxModel",
          "model_module_version": "1.5.0",
          "state": {
            "_dom_classes": [],
            "_model_module": "@jupyter-widgets/controls",
            "_model_module_version": "1.5.0",
            "_model_name": "HBoxModel",
            "_view_count": null,
            "_view_module": "@jupyter-widgets/controls",
            "_view_module_version": "1.5.0",
            "_view_name": "HBoxView",
            "box_style": "",
            "children": [
              "IPY_MODEL_dfc2b0f0cbcb4ed6aa9c51f823ef2e7e",
              "IPY_MODEL_f6e7782afaf44df285f4daed2ab8cdbb",
              "IPY_MODEL_4fb9990162b74221a34ba80dc37caf5f"
            ],
            "layout": "IPY_MODEL_57cb84ca686a41d78ddcfff7444742b0"
          }
        },
        "dfc2b0f0cbcb4ed6aa9c51f823ef2e7e": {
          "model_module": "@jupyter-widgets/controls",
          "model_name": "HTMLModel",
          "model_module_version": "1.5.0",
          "state": {
            "_dom_classes": [],
            "_model_module": "@jupyter-widgets/controls",
            "_model_module_version": "1.5.0",
            "_model_name": "HTMLModel",
            "_view_count": null,
            "_view_module": "@jupyter-widgets/controls",
            "_view_module_version": "1.5.0",
            "_view_name": "HTMLView",
            "description": "",
            "description_tooltip": null,
            "layout": "IPY_MODEL_bf624d3bf3c5424fb1ce3e4518ea45ec",
            "placeholder": "​",
            "style": "IPY_MODEL_a7401e4dd5fc4b1b9c8c371eb0f573b3",
            "value": "Fetching 4 files: 100%"
          }
        },
        "f6e7782afaf44df285f4daed2ab8cdbb": {
          "model_module": "@jupyter-widgets/controls",
          "model_name": "FloatProgressModel",
          "model_module_version": "1.5.0",
          "state": {
            "_dom_classes": [],
            "_model_module": "@jupyter-widgets/controls",
            "_model_module_version": "1.5.0",
            "_model_name": "FloatProgressModel",
            "_view_count": null,
            "_view_module": "@jupyter-widgets/controls",
            "_view_module_version": "1.5.0",
            "_view_name": "ProgressView",
            "bar_style": "success",
            "description": "",
            "description_tooltip": null,
            "layout": "IPY_MODEL_6a6aa1e0759443bb9d58d62c2f8eae1f",
            "max": 4,
            "min": 0,
            "orientation": "horizontal",
            "style": "IPY_MODEL_e2e570130cff409a88f93b0082a2efe9",
            "value": 4
          }
        },
        "4fb9990162b74221a34ba80dc37caf5f": {
          "model_module": "@jupyter-widgets/controls",
          "model_name": "HTMLModel",
          "model_module_version": "1.5.0",
          "state": {
            "_dom_classes": [],
            "_model_module": "@jupyter-widgets/controls",
            "_model_module_version": "1.5.0",
            "_model_name": "HTMLModel",
            "_view_count": null,
            "_view_module": "@jupyter-widgets/controls",
            "_view_module_version": "1.5.0",
            "_view_name": "HTMLView",
            "description": "",
            "description_tooltip": null,
            "layout": "IPY_MODEL_1ce5b956617e482c885a3f175c6826da",
            "placeholder": "​",
            "style": "IPY_MODEL_e0d4a1e8281e4c549318f49b9d235ebc",
            "value": " 4/4 [00:00&lt;00:00, 47.09it/s]"
          }
        },
        "57cb84ca686a41d78ddcfff7444742b0": {
          "model_module": "@jupyter-widgets/base",
          "model_name": "LayoutModel",
          "model_module_version": "1.2.0",
          "state": {
            "_model_module": "@jupyter-widgets/base",
            "_model_module_version": "1.2.0",
            "_model_name": "LayoutModel",
            "_view_count": null,
            "_view_module": "@jupyter-widgets/base",
            "_view_module_version": "1.2.0",
            "_view_name": "LayoutView",
            "align_content": null,
            "align_items": null,
            "align_self": null,
            "border": null,
            "bottom": null,
            "display": null,
            "flex": null,
            "flex_flow": null,
            "grid_area": null,
            "grid_auto_columns": null,
            "grid_auto_flow": null,
            "grid_auto_rows": null,
            "grid_column": null,
            "grid_gap": null,
            "grid_row": null,
            "grid_template_areas": null,
            "grid_template_columns": null,
            "grid_template_rows": null,
            "height": null,
            "justify_content": null,
            "justify_items": null,
            "left": null,
            "margin": null,
            "max_height": null,
            "max_width": null,
            "min_height": null,
            "min_width": null,
            "object_fit": null,
            "object_position": null,
            "order": null,
            "overflow": null,
            "overflow_x": null,
            "overflow_y": null,
            "padding": null,
            "right": null,
            "top": null,
            "visibility": null,
            "width": null
          }
        },
        "bf624d3bf3c5424fb1ce3e4518ea45ec": {
          "model_module": "@jupyter-widgets/base",
          "model_name": "LayoutModel",
          "model_module_version": "1.2.0",
          "state": {
            "_model_module": "@jupyter-widgets/base",
            "_model_module_version": "1.2.0",
            "_model_name": "LayoutModel",
            "_view_count": null,
            "_view_module": "@jupyter-widgets/base",
            "_view_module_version": "1.2.0",
            "_view_name": "LayoutView",
            "align_content": null,
            "align_items": null,
            "align_self": null,
            "border": null,
            "bottom": null,
            "display": null,
            "flex": null,
            "flex_flow": null,
            "grid_area": null,
            "grid_auto_columns": null,
            "grid_auto_flow": null,
            "grid_auto_rows": null,
            "grid_column": null,
            "grid_gap": null,
            "grid_row": null,
            "grid_template_areas": null,
            "grid_template_columns": null,
            "grid_template_rows": null,
            "height": null,
            "justify_content": null,
            "justify_items": null,
            "left": null,
            "margin": null,
            "max_height": null,
            "max_width": null,
            "min_height": null,
            "min_width": null,
            "object_fit": null,
            "object_position": null,
            "order": null,
            "overflow": null,
            "overflow_x": null,
            "overflow_y": null,
            "padding": null,
            "right": null,
            "top": null,
            "visibility": null,
            "width": null
          }
        },
        "a7401e4dd5fc4b1b9c8c371eb0f573b3": {
          "model_module": "@jupyter-widgets/controls",
          "model_name": "DescriptionStyleModel",
          "model_module_version": "1.5.0",
          "state": {
            "_model_module": "@jupyter-widgets/controls",
            "_model_module_version": "1.5.0",
            "_model_name": "DescriptionStyleModel",
            "_view_count": null,
            "_view_module": "@jupyter-widgets/base",
            "_view_module_version": "1.2.0",
            "_view_name": "StyleView",
            "description_width": ""
          }
        },
        "6a6aa1e0759443bb9d58d62c2f8eae1f": {
          "model_module": "@jupyter-widgets/base",
          "model_name": "LayoutModel",
          "model_module_version": "1.2.0",
          "state": {
            "_model_module": "@jupyter-widgets/base",
            "_model_module_version": "1.2.0",
            "_model_name": "LayoutModel",
            "_view_count": null,
            "_view_module": "@jupyter-widgets/base",
            "_view_module_version": "1.2.0",
            "_view_name": "LayoutView",
            "align_content": null,
            "align_items": null,
            "align_self": null,
            "border": null,
            "bottom": null,
            "display": null,
            "flex": null,
            "flex_flow": null,
            "grid_area": null,
            "grid_auto_columns": null,
            "grid_auto_flow": null,
            "grid_auto_rows": null,
            "grid_column": null,
            "grid_gap": null,
            "grid_row": null,
            "grid_template_areas": null,
            "grid_template_columns": null,
            "grid_template_rows": null,
            "height": null,
            "justify_content": null,
            "justify_items": null,
            "left": null,
            "margin": null,
            "max_height": null,
            "max_width": null,
            "min_height": null,
            "min_width": null,
            "object_fit": null,
            "object_position": null,
            "order": null,
            "overflow": null,
            "overflow_x": null,
            "overflow_y": null,
            "padding": null,
            "right": null,
            "top": null,
            "visibility": null,
            "width": null
          }
        },
        "e2e570130cff409a88f93b0082a2efe9": {
          "model_module": "@jupyter-widgets/controls",
          "model_name": "ProgressStyleModel",
          "model_module_version": "1.5.0",
          "state": {
            "_model_module": "@jupyter-widgets/controls",
            "_model_module_version": "1.5.0",
            "_model_name": "ProgressStyleModel",
            "_view_count": null,
            "_view_module": "@jupyter-widgets/base",
            "_view_module_version": "1.2.0",
            "_view_name": "StyleView",
            "bar_color": null,
            "description_width": ""
          }
        },
        "1ce5b956617e482c885a3f175c6826da": {
          "model_module": "@jupyter-widgets/base",
          "model_name": "LayoutModel",
          "model_module_version": "1.2.0",
          "state": {
            "_model_module": "@jupyter-widgets/base",
            "_model_module_version": "1.2.0",
            "_model_name": "LayoutModel",
            "_view_count": null,
            "_view_module": "@jupyter-widgets/base",
            "_view_module_version": "1.2.0",
            "_view_name": "LayoutView",
            "align_content": null,
            "align_items": null,
            "align_self": null,
            "border": null,
            "bottom": null,
            "display": null,
            "flex": null,
            "flex_flow": null,
            "grid_area": null,
            "grid_auto_columns": null,
            "grid_auto_flow": null,
            "grid_auto_rows": null,
            "grid_column": null,
            "grid_gap": null,
            "grid_row": null,
            "grid_template_areas": null,
            "grid_template_columns": null,
            "grid_template_rows": null,
            "height": null,
            "justify_content": null,
            "justify_items": null,
            "left": null,
            "margin": null,
            "max_height": null,
            "max_width": null,
            "min_height": null,
            "min_width": null,
            "object_fit": null,
            "object_position": null,
            "order": null,
            "overflow": null,
            "overflow_x": null,
            "overflow_y": null,
            "padding": null,
            "right": null,
            "top": null,
            "visibility": null,
            "width": null
          }
        },
        "e0d4a1e8281e4c549318f49b9d235ebc": {
          "model_module": "@jupyter-widgets/controls",
          "model_name": "DescriptionStyleModel",
          "model_module_version": "1.5.0",
          "state": {
            "_model_module": "@jupyter-widgets/controls",
            "_model_module_version": "1.5.0",
            "_model_name": "DescriptionStyleModel",
            "_view_count": null,
            "_view_module": "@jupyter-widgets/base",
            "_view_module_version": "1.2.0",
            "_view_name": "StyleView",
            "description_width": ""
          }
        }
      }
    }
  },
  "nbformat": 4,
  "nbformat_minor": 0
}